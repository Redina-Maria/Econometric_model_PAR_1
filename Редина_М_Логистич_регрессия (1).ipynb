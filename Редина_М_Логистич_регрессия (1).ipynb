{
  "nbformat": 4,
  "nbformat_minor": 0,
  "metadata": {
    "colab": {
      "provenance": []
    },
    "kernelspec": {
      "name": "python3",
      "display_name": "Python 3"
    },
    "language_info": {
      "name": "python"
    }
  },
  "cells": [
    {
      "cell_type": "code",
      "execution_count": null,
      "metadata": {
        "id": "H_faJUS1fVcW"
      },
      "outputs": [],
      "source": [
        "# подгружаем необходимые библиотеки\n",
        "import random\n",
        "\n",
        "import numpy as np\n",
        "import pandas as pd\n",
        "from sklearn.feature_selection import SelectKBest,chi2,RFE\n",
        "import matplotlib.pyplot as plt\n",
        "from sklearn. preprocessing import OneHotEncoder\n",
        "\n",
        "from sklearn. linear_model import LogisticRegression\n",
        "from sklearn import metrics\n",
        "import seaborn as sns\n",
        "\n",
        "from sklearn.metrics import accuracy_score\n",
        "from sklearn.datasets import make_classification\n",
        "\n",
        "from sklearn.neighbors import KNeighborsRegressor\n",
        "\n",
        "from sklearn import svm, datasets\n",
        "\n",
        "from sklearn.pipeline import Pipeline\n",
        "from sklearn.model_selection import RepeatedStratifiedKFold\n",
        "from sklearn.model_selection import cross_val_score\n",
        "from sklearn.feature_selection import RFE\n",
        "from sklearn.ensemble import GradientBoostingClassifier\n",
        "\n",
        "from sklearn.metrics import RocCurveDisplay\n",
        "\n",
        "from sklearn.preprocessing import LabelBinarizer"
      ]
    },
    {
      "cell_type": "code",
      "source": [
        "from sklearn. model_selection import train_test_split"
      ],
      "metadata": {
        "id": "fUSqrF2ZhhQx"
      },
      "execution_count": null,
      "outputs": []
    },
    {
      "cell_type": "code",
      "source": [
        "data1=pd.read_csv('/content/Данные для построения модели+ (1).csv', error_bad_lines=False,sep=';')"
      ],
      "metadata": {
        "colab": {
          "base_uri": "https://localhost:8080/"
        },
        "id": "pSfgkrJS36TJ",
        "outputId": "a0e3ccef-ec21-4c74-96e0-052b6e9f34a2"
      },
      "execution_count": null,
      "outputs": [
        {
          "output_type": "stream",
          "name": "stderr",
          "text": [
            "<ipython-input-3-1cade772022a>:1: FutureWarning: The error_bad_lines argument has been deprecated and will be removed in a future version. Use on_bad_lines in the future.\n",
            "\n",
            "\n",
            "  data1=pd.read_csv('/content/Данные для построения модели+ (1).csv', error_bad_lines=False,sep=';')\n"
          ]
        }
      ]
    },
    {
      "cell_type": "code",
      "source": [
        "data1.info()"
      ],
      "metadata": {
        "colab": {
          "base_uri": "https://localhost:8080/"
        },
        "id": "i6-P8Opu10wK",
        "outputId": "eaa7f21c-ca5c-4098-bf07-afb3c4eda9da"
      },
      "execution_count": null,
      "outputs": [
        {
          "output_type": "stream",
          "name": "stdout",
          "text": [
            "<class 'pandas.core.frame.DataFrame'>\n",
            "RangeIndex: 68 entries, 0 to 67\n",
            "Data columns (total 10 columns):\n",
            " #   Column                                Non-Null Count  Dtype  \n",
            "---  ------                                --------------  -----  \n",
            " 0   Индикатор кризиса                     68 non-null     int64  \n",
            " 1   Квартал                               68 non-null     object \n",
            " 2   Цены на жильё  (тыс,/м2)              68 non-null     float64\n",
            " 3   Объем нового строительства (млн.руб)  68 non-null     float64\n",
            " 4   Безработица                           68 non-null     float64\n",
            " 5   Инфляция (%)                          68 non-null     float64\n",
            " 6   Доля просроченных кредитов (%)        68 non-null     float64\n",
            " 7   Ипотечные ставки (%)                  68 non-null     float64\n",
            " 8   Уровень доходов населения             68 non-null     float64\n",
            " 9   Реальный курс рубля                   68 non-null     float64\n",
            "dtypes: float64(8), int64(1), object(1)\n",
            "memory usage: 5.4+ KB\n"
          ]
        }
      ]
    },
    {
      "cell_type": "code",
      "source": [
        "#Проверим заполненность данных и приведем все данные к числовому формату\n",
        "data1['Квартал'] = pd.to_datetime(data1['Квартал'], format='%d.%m.%Y')\n",
        "data1.set_index('Квартал', inplace=True)\n",
        "data1"
      ],
      "metadata": {
        "colab": {
          "base_uri": "https://localhost:8080/",
          "height": 707
        },
        "id": "1w4VWr7pIoC0",
        "outputId": "5c1c3a77-74f7-4340-cace-1df728077acc"
      },
      "execution_count": null,
      "outputs": [
        {
          "output_type": "execute_result",
          "data": {
            "text/plain": [
              "            Индикатор кризиса  Цены на жильё  (тыс,/м2)  \\\n",
              "Квартал                                                   \n",
              "2005-03-31                  0                  21013.07   \n",
              "2005-06-30                  0                  21693.05   \n",
              "2005-09-30                  0                  22497.44   \n",
              "2005-12-31                  0                  23779.66   \n",
              "2006-03-31                  0                  26174.69   \n",
              "...                       ...                       ...   \n",
              "2020-12-31                  0                  72857.50   \n",
              "2021-03-31                  0                  75501.76   \n",
              "2021-06-30                  0                  79898.67   \n",
              "2021-09-30                  0                  83380.96   \n",
              "2021-12-31                  0                  87797.61   \n",
              "\n",
              "            Объем нового строительства (млн.руб)  Безработица  Инфляция (%)  \\\n",
              "Квартал                                                                       \n",
              "2005-03-31                             448689.50          7.1          5.09   \n",
              "2005-06-30                             258546.50          7.1          3.20   \n",
              "2005-09-30                             428513.50          7.1          1.15   \n",
              "2005-12-31                             618656.50          7.1          1.44   \n",
              "2006-03-31                             487168.00          7.1          4.67   \n",
              "...                                          ...          ...           ...   \n",
              "2020-12-31                            2287706.75          6.1          1.12   \n",
              "2021-03-31                            2896660.75          5.6          2.22   \n",
              "2021-06-30                            2499140.75          4.9          2.01   \n",
              "2021-09-30                            2597811.75          4.4          1.33   \n",
              "2021-12-31                            2797989.75          4.3          2.50   \n",
              "\n",
              "            Доля просроченных кредитов (%)  Ипотечные ставки (%)  \\\n",
              "Квартал                                                            \n",
              "2005-03-31                            0.70                 15.00   \n",
              "2005-06-30                            0.20                 15.00   \n",
              "2005-09-30                            1.50                 15.00   \n",
              "2005-12-31                            0.90                 15.00   \n",
              "2006-03-31                            0.88                 13.50   \n",
              "...                                    ...                   ...   \n",
              "2020-12-31                            0.86                  7.72   \n",
              "2021-03-31                            0.80                  7.24   \n",
              "2021-06-30                            0.98                  7.25   \n",
              "2021-09-30                            1.35                  7.34   \n",
              "2021-12-31                            1.17                  7.46   \n",
              "\n",
              "            Уровень доходов населения  Реальный курс рубля  \n",
              "Квартал                                                     \n",
              "2005-03-31                     8088.0                28.60  \n",
              "2005-06-30                     8240.0                28.49  \n",
              "2005-09-30                     8957.0                28.75  \n",
              "2005-12-31                     9450.0                27.72  \n",
              "2006-03-31                    10154.0                26.84  \n",
              "...                               ...                  ...  \n",
              "2020-12-31                    43712.9                75.65  \n",
              "2021-03-31                    32981.0                73.13  \n",
              "2021-06-30                    38645.0                72.68  \n",
              "2021-09-30                    41079.0                75.06  \n",
              "2021-12-31                    48173.0                81.73  \n",
              "\n",
              "[68 rows x 9 columns]"
            ],
            "text/html": [
              "\n",
              "  <div id=\"df-9641178b-83e3-483f-a4d1-ed43c2b63256\">\n",
              "    <div class=\"colab-df-container\">\n",
              "      <div>\n",
              "<style scoped>\n",
              "    .dataframe tbody tr th:only-of-type {\n",
              "        vertical-align: middle;\n",
              "    }\n",
              "\n",
              "    .dataframe tbody tr th {\n",
              "        vertical-align: top;\n",
              "    }\n",
              "\n",
              "    .dataframe thead th {\n",
              "        text-align: right;\n",
              "    }\n",
              "</style>\n",
              "<table border=\"1\" class=\"dataframe\">\n",
              "  <thead>\n",
              "    <tr style=\"text-align: right;\">\n",
              "      <th></th>\n",
              "      <th>Индикатор кризиса</th>\n",
              "      <th>Цены на жильё  (тыс,/м2)</th>\n",
              "      <th>Объем нового строительства (млн.руб)</th>\n",
              "      <th>Безработица</th>\n",
              "      <th>Инфляция (%)</th>\n",
              "      <th>Доля просроченных кредитов (%)</th>\n",
              "      <th>Ипотечные ставки (%)</th>\n",
              "      <th>Уровень доходов населения</th>\n",
              "      <th>Реальный курс рубля</th>\n",
              "    </tr>\n",
              "    <tr>\n",
              "      <th>Квартал</th>\n",
              "      <th></th>\n",
              "      <th></th>\n",
              "      <th></th>\n",
              "      <th></th>\n",
              "      <th></th>\n",
              "      <th></th>\n",
              "      <th></th>\n",
              "      <th></th>\n",
              "      <th></th>\n",
              "    </tr>\n",
              "  </thead>\n",
              "  <tbody>\n",
              "    <tr>\n",
              "      <th>2005-03-31</th>\n",
              "      <td>0</td>\n",
              "      <td>21013.07</td>\n",
              "      <td>448689.50</td>\n",
              "      <td>7.1</td>\n",
              "      <td>5.09</td>\n",
              "      <td>0.70</td>\n",
              "      <td>15.00</td>\n",
              "      <td>8088.0</td>\n",
              "      <td>28.60</td>\n",
              "    </tr>\n",
              "    <tr>\n",
              "      <th>2005-06-30</th>\n",
              "      <td>0</td>\n",
              "      <td>21693.05</td>\n",
              "      <td>258546.50</td>\n",
              "      <td>7.1</td>\n",
              "      <td>3.20</td>\n",
              "      <td>0.20</td>\n",
              "      <td>15.00</td>\n",
              "      <td>8240.0</td>\n",
              "      <td>28.49</td>\n",
              "    </tr>\n",
              "    <tr>\n",
              "      <th>2005-09-30</th>\n",
              "      <td>0</td>\n",
              "      <td>22497.44</td>\n",
              "      <td>428513.50</td>\n",
              "      <td>7.1</td>\n",
              "      <td>1.15</td>\n",
              "      <td>1.50</td>\n",
              "      <td>15.00</td>\n",
              "      <td>8957.0</td>\n",
              "      <td>28.75</td>\n",
              "    </tr>\n",
              "    <tr>\n",
              "      <th>2005-12-31</th>\n",
              "      <td>0</td>\n",
              "      <td>23779.66</td>\n",
              "      <td>618656.50</td>\n",
              "      <td>7.1</td>\n",
              "      <td>1.44</td>\n",
              "      <td>0.90</td>\n",
              "      <td>15.00</td>\n",
              "      <td>9450.0</td>\n",
              "      <td>27.72</td>\n",
              "    </tr>\n",
              "    <tr>\n",
              "      <th>2006-03-31</th>\n",
              "      <td>0</td>\n",
              "      <td>26174.69</td>\n",
              "      <td>487168.00</td>\n",
              "      <td>7.1</td>\n",
              "      <td>4.67</td>\n",
              "      <td>0.88</td>\n",
              "      <td>13.50</td>\n",
              "      <td>10154.0</td>\n",
              "      <td>26.84</td>\n",
              "    </tr>\n",
              "    <tr>\n",
              "      <th>...</th>\n",
              "      <td>...</td>\n",
              "      <td>...</td>\n",
              "      <td>...</td>\n",
              "      <td>...</td>\n",
              "      <td>...</td>\n",
              "      <td>...</td>\n",
              "      <td>...</td>\n",
              "      <td>...</td>\n",
              "      <td>...</td>\n",
              "    </tr>\n",
              "    <tr>\n",
              "      <th>2020-12-31</th>\n",
              "      <td>0</td>\n",
              "      <td>72857.50</td>\n",
              "      <td>2287706.75</td>\n",
              "      <td>6.1</td>\n",
              "      <td>1.12</td>\n",
              "      <td>0.86</td>\n",
              "      <td>7.72</td>\n",
              "      <td>43712.9</td>\n",
              "      <td>75.65</td>\n",
              "    </tr>\n",
              "    <tr>\n",
              "      <th>2021-03-31</th>\n",
              "      <td>0</td>\n",
              "      <td>75501.76</td>\n",
              "      <td>2896660.75</td>\n",
              "      <td>5.6</td>\n",
              "      <td>2.22</td>\n",
              "      <td>0.80</td>\n",
              "      <td>7.24</td>\n",
              "      <td>32981.0</td>\n",
              "      <td>73.13</td>\n",
              "    </tr>\n",
              "    <tr>\n",
              "      <th>2021-06-30</th>\n",
              "      <td>0</td>\n",
              "      <td>79898.67</td>\n",
              "      <td>2499140.75</td>\n",
              "      <td>4.9</td>\n",
              "      <td>2.01</td>\n",
              "      <td>0.98</td>\n",
              "      <td>7.25</td>\n",
              "      <td>38645.0</td>\n",
              "      <td>72.68</td>\n",
              "    </tr>\n",
              "    <tr>\n",
              "      <th>2021-09-30</th>\n",
              "      <td>0</td>\n",
              "      <td>83380.96</td>\n",
              "      <td>2597811.75</td>\n",
              "      <td>4.4</td>\n",
              "      <td>1.33</td>\n",
              "      <td>1.35</td>\n",
              "      <td>7.34</td>\n",
              "      <td>41079.0</td>\n",
              "      <td>75.06</td>\n",
              "    </tr>\n",
              "    <tr>\n",
              "      <th>2021-12-31</th>\n",
              "      <td>0</td>\n",
              "      <td>87797.61</td>\n",
              "      <td>2797989.75</td>\n",
              "      <td>4.3</td>\n",
              "      <td>2.50</td>\n",
              "      <td>1.17</td>\n",
              "      <td>7.46</td>\n",
              "      <td>48173.0</td>\n",
              "      <td>81.73</td>\n",
              "    </tr>\n",
              "  </tbody>\n",
              "</table>\n",
              "<p>68 rows × 9 columns</p>\n",
              "</div>\n",
              "      <button class=\"colab-df-convert\" onclick=\"convertToInteractive('df-9641178b-83e3-483f-a4d1-ed43c2b63256')\"\n",
              "              title=\"Convert this dataframe to an interactive table.\"\n",
              "              style=\"display:none;\">\n",
              "        \n",
              "  <svg xmlns=\"http://www.w3.org/2000/svg\" height=\"24px\"viewBox=\"0 0 24 24\"\n",
              "       width=\"24px\">\n",
              "    <path d=\"M0 0h24v24H0V0z\" fill=\"none\"/>\n",
              "    <path d=\"M18.56 5.44l.94 2.06.94-2.06 2.06-.94-2.06-.94-.94-2.06-.94 2.06-2.06.94zm-11 1L8.5 8.5l.94-2.06 2.06-.94-2.06-.94L8.5 2.5l-.94 2.06-2.06.94zm10 10l.94 2.06.94-2.06 2.06-.94-2.06-.94-.94-2.06-.94 2.06-2.06.94z\"/><path d=\"M17.41 7.96l-1.37-1.37c-.4-.4-.92-.59-1.43-.59-.52 0-1.04.2-1.43.59L10.3 9.45l-7.72 7.72c-.78.78-.78 2.05 0 2.83L4 21.41c.39.39.9.59 1.41.59.51 0 1.02-.2 1.41-.59l7.78-7.78 2.81-2.81c.8-.78.8-2.07 0-2.86zM5.41 20L4 18.59l7.72-7.72 1.47 1.35L5.41 20z\"/>\n",
              "  </svg>\n",
              "      </button>\n",
              "      \n",
              "  <style>\n",
              "    .colab-df-container {\n",
              "      display:flex;\n",
              "      flex-wrap:wrap;\n",
              "      gap: 12px;\n",
              "    }\n",
              "\n",
              "    .colab-df-convert {\n",
              "      background-color: #E8F0FE;\n",
              "      border: none;\n",
              "      border-radius: 50%;\n",
              "      cursor: pointer;\n",
              "      display: none;\n",
              "      fill: #1967D2;\n",
              "      height: 32px;\n",
              "      padding: 0 0 0 0;\n",
              "      width: 32px;\n",
              "    }\n",
              "\n",
              "    .colab-df-convert:hover {\n",
              "      background-color: #E2EBFA;\n",
              "      box-shadow: 0px 1px 2px rgba(60, 64, 67, 0.3), 0px 1px 3px 1px rgba(60, 64, 67, 0.15);\n",
              "      fill: #174EA6;\n",
              "    }\n",
              "\n",
              "    [theme=dark] .colab-df-convert {\n",
              "      background-color: #3B4455;\n",
              "      fill: #D2E3FC;\n",
              "    }\n",
              "\n",
              "    [theme=dark] .colab-df-convert:hover {\n",
              "      background-color: #434B5C;\n",
              "      box-shadow: 0px 1px 3px 1px rgba(0, 0, 0, 0.15);\n",
              "      filter: drop-shadow(0px 1px 2px rgba(0, 0, 0, 0.3));\n",
              "      fill: #FFFFFF;\n",
              "    }\n",
              "  </style>\n",
              "\n",
              "      <script>\n",
              "        const buttonEl =\n",
              "          document.querySelector('#df-9641178b-83e3-483f-a4d1-ed43c2b63256 button.colab-df-convert');\n",
              "        buttonEl.style.display =\n",
              "          google.colab.kernel.accessAllowed ? 'block' : 'none';\n",
              "\n",
              "        async function convertToInteractive(key) {\n",
              "          const element = document.querySelector('#df-9641178b-83e3-483f-a4d1-ed43c2b63256');\n",
              "          const dataTable =\n",
              "            await google.colab.kernel.invokeFunction('convertToInteractive',\n",
              "                                                     [key], {});\n",
              "          if (!dataTable) return;\n",
              "\n",
              "          const docLinkHtml = 'Like what you see? Visit the ' +\n",
              "            '<a target=\"_blank\" href=https://colab.research.google.com/notebooks/data_table.ipynb>data table notebook</a>'\n",
              "            + ' to learn more about interactive tables.';\n",
              "          element.innerHTML = '';\n",
              "          dataTable['output_type'] = 'display_data';\n",
              "          await google.colab.output.renderOutput(dataTable, element);\n",
              "          const docLink = document.createElement('div');\n",
              "          docLink.innerHTML = docLinkHtml;\n",
              "          element.appendChild(docLink);\n",
              "        }\n",
              "      </script>\n",
              "    </div>\n",
              "  </div>\n",
              "  "
            ]
          },
          "metadata": {},
          "execution_count": 5
        }
      ]
    },
    {
      "cell_type": "code",
      "source": [
        "#Сохраним полученные данные\n",
        "data1.to_excel('Data_new.xlsx')"
      ],
      "metadata": {
        "id": "x8MV71VNNmsK"
      },
      "execution_count": null,
      "outputs": []
    },
    {
      "cell_type": "code",
      "source": [
        "data1.info()"
      ],
      "metadata": {
        "colab": {
          "base_uri": "https://localhost:8080/"
        },
        "id": "-oLjHmYIOIyy",
        "outputId": "83122104-3a7c-42fc-8d04-84c6b9b08e65"
      },
      "execution_count": null,
      "outputs": [
        {
          "output_type": "stream",
          "name": "stdout",
          "text": [
            "<class 'pandas.core.frame.DataFrame'>\n",
            "DatetimeIndex: 68 entries, 2005-03-31 to 2021-12-31\n",
            "Data columns (total 9 columns):\n",
            " #   Column                                Non-Null Count  Dtype  \n",
            "---  ------                                --------------  -----  \n",
            " 0   Индикатор кризиса                     68 non-null     int64  \n",
            " 1   Цены на жильё  (тыс,/м2)              68 non-null     float64\n",
            " 2   Объем нового строительства (млн.руб)  68 non-null     float64\n",
            " 3   Безработица                           68 non-null     float64\n",
            " 4   Инфляция (%)                          68 non-null     float64\n",
            " 5   Доля просроченных кредитов (%)        68 non-null     float64\n",
            " 6   Ипотечные ставки (%)                  68 non-null     float64\n",
            " 7   Уровень доходов населения             68 non-null     float64\n",
            " 8   Реальный курс рубля                   68 non-null     float64\n",
            "dtypes: float64(8), int64(1)\n",
            "memory usage: 5.3 KB\n"
          ]
        }
      ]
    },
    {
      "cell_type": "code",
      "source": [
        "train, test = train_test_split(data1, test_size= 0.2 , random_state= 0)"
      ],
      "metadata": {
        "id": "nBimuWosh1D8"
      },
      "execution_count": null,
      "outputs": []
    },
    {
      "cell_type": "code",
      "source": [
        "X = train.drop(columns = ['Индикатор кризиса'],axis = 1)\n",
        "Y = train['Индикатор кризиса']"
      ],
      "metadata": {
        "id": "ySsYpkzefzJg"
      },
      "execution_count": null,
      "outputs": []
    },
    {
      "cell_type": "code",
      "source": [
        "X.info()"
      ],
      "metadata": {
        "id": "i-0zRmtocNTN"
      },
      "execution_count": null,
      "outputs": []
    },
    {
      "cell_type": "code",
      "source": [
        "X2 = test.drop(columns = ['Индикатор кризиса'],axis = 1)\n",
        "Y2 = test['Индикатор кризиса']"
      ],
      "metadata": {
        "id": "3s8UtmnuijZC"
      },
      "execution_count": null,
      "outputs": []
    },
    {
      "cell_type": "code",
      "source": [
        "log_regression = LogisticRegression()\n",
        "# подбираем модель, используя обучающие данные\n",
        "log_regression.fit(X,Y)"
      ],
      "metadata": {
        "colab": {
          "base_uri": "https://localhost:8080/",
          "height": 74
        },
        "id": "kcWANhxJijbL",
        "outputId": "6b293838-d22b-4991-d610-17a4ad1c090d"
      },
      "execution_count": null,
      "outputs": [
        {
          "output_type": "execute_result",
          "data": {
            "text/plain": [
              "LogisticRegression()"
            ],
            "text/html": [
              "<style>#sk-container-id-8 {color: black;background-color: white;}#sk-container-id-8 pre{padding: 0;}#sk-container-id-8 div.sk-toggleable {background-color: white;}#sk-container-id-8 label.sk-toggleable__label {cursor: pointer;display: block;width: 100%;margin-bottom: 0;padding: 0.3em;box-sizing: border-box;text-align: center;}#sk-container-id-8 label.sk-toggleable__label-arrow:before {content: \"▸\";float: left;margin-right: 0.25em;color: #696969;}#sk-container-id-8 label.sk-toggleable__label-arrow:hover:before {color: black;}#sk-container-id-8 div.sk-estimator:hover label.sk-toggleable__label-arrow:before {color: black;}#sk-container-id-8 div.sk-toggleable__content {max-height: 0;max-width: 0;overflow: hidden;text-align: left;background-color: #f0f8ff;}#sk-container-id-8 div.sk-toggleable__content pre {margin: 0.2em;color: black;border-radius: 0.25em;background-color: #f0f8ff;}#sk-container-id-8 input.sk-toggleable__control:checked~div.sk-toggleable__content {max-height: 200px;max-width: 100%;overflow: auto;}#sk-container-id-8 input.sk-toggleable__control:checked~label.sk-toggleable__label-arrow:before {content: \"▾\";}#sk-container-id-8 div.sk-estimator input.sk-toggleable__control:checked~label.sk-toggleable__label {background-color: #d4ebff;}#sk-container-id-8 div.sk-label input.sk-toggleable__control:checked~label.sk-toggleable__label {background-color: #d4ebff;}#sk-container-id-8 input.sk-hidden--visually {border: 0;clip: rect(1px 1px 1px 1px);clip: rect(1px, 1px, 1px, 1px);height: 1px;margin: -1px;overflow: hidden;padding: 0;position: absolute;width: 1px;}#sk-container-id-8 div.sk-estimator {font-family: monospace;background-color: #f0f8ff;border: 1px dotted black;border-radius: 0.25em;box-sizing: border-box;margin-bottom: 0.5em;}#sk-container-id-8 div.sk-estimator:hover {background-color: #d4ebff;}#sk-container-id-8 div.sk-parallel-item::after {content: \"\";width: 100%;border-bottom: 1px solid gray;flex-grow: 1;}#sk-container-id-8 div.sk-label:hover label.sk-toggleable__label {background-color: #d4ebff;}#sk-container-id-8 div.sk-serial::before {content: \"\";position: absolute;border-left: 1px solid gray;box-sizing: border-box;top: 0;bottom: 0;left: 50%;z-index: 0;}#sk-container-id-8 div.sk-serial {display: flex;flex-direction: column;align-items: center;background-color: white;padding-right: 0.2em;padding-left: 0.2em;position: relative;}#sk-container-id-8 div.sk-item {position: relative;z-index: 1;}#sk-container-id-8 div.sk-parallel {display: flex;align-items: stretch;justify-content: center;background-color: white;position: relative;}#sk-container-id-8 div.sk-item::before, #sk-container-id-8 div.sk-parallel-item::before {content: \"\";position: absolute;border-left: 1px solid gray;box-sizing: border-box;top: 0;bottom: 0;left: 50%;z-index: -1;}#sk-container-id-8 div.sk-parallel-item {display: flex;flex-direction: column;z-index: 1;position: relative;background-color: white;}#sk-container-id-8 div.sk-parallel-item:first-child::after {align-self: flex-end;width: 50%;}#sk-container-id-8 div.sk-parallel-item:last-child::after {align-self: flex-start;width: 50%;}#sk-container-id-8 div.sk-parallel-item:only-child::after {width: 0;}#sk-container-id-8 div.sk-dashed-wrapped {border: 1px dashed gray;margin: 0 0.4em 0.5em 0.4em;box-sizing: border-box;padding-bottom: 0.4em;background-color: white;}#sk-container-id-8 div.sk-label label {font-family: monospace;font-weight: bold;display: inline-block;line-height: 1.2em;}#sk-container-id-8 div.sk-label-container {text-align: center;}#sk-container-id-8 div.sk-container {/* jupyter's `normalize.less` sets `[hidden] { display: none; }` but bootstrap.min.css set `[hidden] { display: none !important; }` so we also need the `!important` here to be able to override the default hidden behavior on the sphinx rendered scikit-learn.org. See: https://github.com/scikit-learn/scikit-learn/issues/21755 */display: inline-block !important;position: relative;}#sk-container-id-8 div.sk-text-repr-fallback {display: none;}</style><div id=\"sk-container-id-8\" class=\"sk-top-container\"><div class=\"sk-text-repr-fallback\"><pre>LogisticRegression()</pre><b>In a Jupyter environment, please rerun this cell to show the HTML representation or trust the notebook. <br />On GitHub, the HTML representation is unable to render, please try loading this page with nbviewer.org.</b></div><div class=\"sk-container\" hidden><div class=\"sk-item\"><div class=\"sk-estimator sk-toggleable\"><input class=\"sk-toggleable__control sk-hidden--visually\" id=\"sk-estimator-id-8\" type=\"checkbox\" checked><label for=\"sk-estimator-id-8\" class=\"sk-toggleable__label sk-toggleable__label-arrow\">LogisticRegression</label><div class=\"sk-toggleable__content\"><pre>LogisticRegression()</pre></div></div></div></div></div>"
            ]
          },
          "metadata": {},
          "execution_count": 84
        }
      ]
    },
    {
      "cell_type": "code",
      "source": [
        "y_pred = log_regression.predict(X2)"
      ],
      "metadata": {
        "id": "ZgtfSC4vijdM"
      },
      "execution_count": null,
      "outputs": []
    },
    {
      "cell_type": "code",
      "source": [
        "print(\" Accuracy:\",metrics. accuracy_score (Y2, y_pred))"
      ],
      "metadata": {
        "colab": {
          "base_uri": "https://localhost:8080/"
        },
        "id": "nkHeM2abijfC",
        "outputId": "cf8a91c4-2e4c-46a3-f9e2-3e9cfb8110ae"
      },
      "execution_count": null,
      "outputs": [
        {
          "output_type": "stream",
          "name": "stdout",
          "text": [
            " Accuracy: 0.7142857142857143\n"
          ]
        }
      ]
    },
    {
      "cell_type": "code",
      "source": [
        "y_pred_N = log_regression.predict(X2)"
      ],
      "metadata": {
        "id": "wr3RWDbhiji6"
      },
      "execution_count": null,
      "outputs": []
    },
    {
      "cell_type": "code",
      "source": [
        "print(\" Accuracy:\",metrics. accuracy_score (Y2, y_pred))"
      ],
      "metadata": {
        "colab": {
          "base_uri": "https://localhost:8080/"
        },
        "id": "JJhlPRI6ijky",
        "outputId": "e10a3627-a25f-40dd-f879-8ba9ebabb692"
      },
      "execution_count": null,
      "outputs": [
        {
          "output_type": "stream",
          "name": "stdout",
          "text": [
            " Accuracy: 0.7142857142857143\n"
          ]
        }
      ]
    },
    {
      "cell_type": "code",
      "source": [
        "y_pred_proba = log_regression.predict_proba(X2)[::,1]"
      ],
      "metadata": {
        "id": "1617LdbOkcF0"
      },
      "execution_count": null,
      "outputs": []
    },
    {
      "cell_type": "code",
      "source": [
        "fpr, tpr, _ = metrics.roc_curve(Y2, y_pred_proba)\n",
        "\n",
        "#create ROC curve\n",
        "plt.plot (fpr,tpr)\n",
        "plt.ylabel('True Positive Rate')\n",
        "plt.xlabel('False Positive Rate')\n",
        "plt.show()"
      ],
      "metadata": {
        "colab": {
          "base_uri": "https://localhost:8080/",
          "height": 449
        },
        "id": "f1g8z67pkcH_",
        "outputId": "684f8685-78da-4cd6-c96a-1602cfc3ae27"
      },
      "execution_count": null,
      "outputs": [
        {
          "output_type": "display_data",
          "data": {
            "text/plain": [
              "<Figure size 640x480 with 1 Axes>"
            ],
            "image/png": "[encoded data removed]"
          },
          "metadata": {}
        }
      ]
    }
  ]
}